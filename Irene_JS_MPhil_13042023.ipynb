# Load the R package named 'stringr'

library (stringr)

# Load the bioinformatics package in R named 'vcfR' to work with Variant Call Format (VCF) files

library(vcfR)

# Read the "Tumour_blocks_anon_for_analysis.txt" txt file into R

setwd("/home/ij280/")

Tumour_blocks_info <- read.delim("/home/ij280/Tumour_blocks_anon_for_analysis.txt", header = T, na.strings = "")

# Execute a system command in Linux from within R, to list all file paths ending with "_hg38.bwa.SV.vcf" within the working directory 

file_paths_2 <- system("ls /home/ij280/EZ_James2_hg38.bwa/*_hg38.bwa.SV.vcf", intern = T)

file_paths_3 <- system("ls /home/ij280/EZ_James3_hg38.bwa/*_hg38.bwa.SV.vcf", intern = T)

file_paths <- c(file_paths_2, file_paths_3)

rm(file_paths_2, file_paths_3)

# Extract the unique identifiers (file names) from the file paths created

files <- sapply(str_split(file_paths, "/"), "[",5)

files <- sapply(str_split(files, "_hg38"), "[", 1)

# Separate germline vcf files from somatic vcf files

germ_file_paths <- file_paths[files %in% Tumour_blocks_info$Germine_data_prefix]

som_file_paths <- file_paths[files %in% Tumour_blocks_info$Data_file_prefix]

germ_files <- files[files %in% Tumour_blocks_info$Germine_data_prefix]

som_files <- files[files %in% Tumour_blocks_info$Data_file_prefix]

# Filter "Tumour_blocks_info" data frame to retain only rows that have a "Data_file_prefix" value present in the "som_files"

Tumour_blocks_info <- Tumour_blocks_info[Tumour_blocks_info$Data_file_prefix %in% som_files,]

# Read "MPT_datasheet_anon.csv" into R

MPT_sheet <- read.csv("/home/ij280/MPT_datasheet_anon.csv", header = T)

# Extract columns of interest from "MPT_datasheet_anon.csv"

MPT_sheet <- MPT_sheet[,
                       colnames(MPT_sheet) %in% 
                         c("ID", 
                           "sex", 
                           
                           "age_1", 
                           "single_word_1", 
                           "top_Code_1", 
                           "site_1", 
                           "morph_code_1", 
                           "morph_1", 
                           
                           "age_2", 
                           "single_word_2", 
                           "top_Code_2", 
                           "site_2", 
                           "morph_code_2", 
                           "morph_2", 
                           
                           "age_3", 
                           "single_word_3", 
                           "top_Code_3", 
                           "site_3", 
                           "morph_code_3", 
                           "morph_3", 
                           
                           "age_4", 
                           "single_word_4", 
                           "top_Code_4", 
                           "site_4", 
                           "morph_code_4", 
                           "morph_4", 
                           
                           "age_5", 
                           "single_word_5", 
                           "top_Code_5", 
                           "site_5", 
                           "morph_code_5", 
                           "morph_5", 
                           
                           "age_6", 
                           "single_word_6", 
                           "top_Code_6", 
                           "site_6", 
                           "morph_code_6", 
                           "morph_6", 
                           
                           "age_7", 
                           "single_word_7", 
                           "top_Code_7", 
                           "site_7", 
                           "morph_code_7", 
                           "morph_7" )]

# Merge information from "Tumour_blocks_info" and "MPT_sheet" based on matching values in the 'ID' column of both data frames

## install.packages("dplyr")

library(dplyr)

Tumour_blocks_info <- left_join(Tumour_blocks_info, MPT_sheet, by = "ID")

# Read gene list into R

Gene_list <- read.delim("/home/ij280/clinical_cpg_list.txt", header = T, na.strings = "")

# Perform a 'for' loop structure to iterate over files specified by "som_file_paths" vector, to extract relevant information including genotype calls, allele depth, allele frequency, depth of coverage, and additional INFO fields

for(i in 1:length(som_file_paths)){
## i = 87
    
  a <- read.vcfR(som_file_paths[i]) 
  
  if(nrow(extract.gt(a, element = "GT")) == 1){
    
    b <- t(as.data.frame(getFIX(a, getINFO = F))) 

    rownames(b) <- 1
  } 
  
  if(nrow(extract.gt(a, element = "GT")) == 0 | nrow(extract.gt(a, element = "GT")) > 1){b <- as.data.frame(getFIX(a, getINFO = F))} 
  
  ## b <- getFIX(a, getINFO = F)
  
  ## b <- t(as.matrix(b[which(names(b) != "ID")])) 
  
 ## b <- b[, colnames(b) != "ID"] 
  
  c <- extract.gt(a, element = "GT", mask = FALSE, return.alleles = FALSE, convertNA = T, IDtoRowNames = FALSE) 
  
  c <- as.data.frame(c[,1]) 
  
  names(c) <- "GT" 
  
  d <- extract.gt(a, element = "AD", mask = FALSE, return.alleles = FALSE, convertNA = T, IDtoRowNames = FALSE) 
  
  d <- as.data.frame(d[,1]) 
  
  names(d) <- "AD" 
  
  e <- extract.gt(a, element = "AF", mask = FALSE, return.alleles = FALSE, convertNA = T, IDtoRowNames = FALSE) 
  
  e <- as.data.frame(e[,1]) 
  
  names(e) <- "AF" 
  
  f <- extract.gt(a, element = "DP", mask = FALSE, return.alleles = FALSE, convertNA = T, IDtoRowNames = FALSE) 
  
  f <- as.data.frame(f[,1]) 
  
  names(f) <- "DP" 
  
  g <- extract.gt(a, element = "GQ", mask = FALSE, return.alleles = FALSE, convertNA = T, IDtoRowNames = FALSE) 
    
  g <- as.data.frame(g[,1]) 
  
  names(g) <- "GQ" 
  
  ## h <- as.data.frame(INFO2df(a))
  
  h <- INFO2df(a)
  
 ## colnames(CMDL21002199_S13_df)

  CIEND <- h[,which(colnames(h) == "CIEND")]
  
  if(!(is.character(CIEND))){CIEND <- rep(NA, nrow(h))}
  
  CIPOS <- h[,which(colnames(h) == "CIPOS")]
  
  if(!(is.character(CIPOS))){CIPOS <- rep(NA, nrow(h))}
  
  CHR2 <- h[,which(colnames(h) == "CHR2")]
  
  if(!(is.character(CHR2))){CHR2 <- rep(NA, nrow(h))}
  
  END <- h[,which(colnames(h) == "END")]
  
  if(!(is.numeric(END))){END <- rep(NA, nrow(h))}
  
  PE <- h[,which(colnames(h) == "PE")]
  
  if(!(is.numeric(PE))){PE <- rep(NA, nrow(h))}
  
  MAPQ <- h[,which(colnames(h) == "MAPQ")]
  
  if(!(is.numeric(MAPQ))){MAPQ <- rep(NA, nrow(h))}
  
  SRMAPQ <- h[,which(colnames(h) == "SRMAPQ")]
  
  if(!(is.numeric(SRMAPQ))){SRMAPQ <- rep(NA, nrow(h))}
  
  SR <- h[,which(colnames(h) == "SR")]
  
  if(!(is.numeric(SR))){SR <- rep(NA, nrow(h))}
  
  SRQ <- h[,which(colnames(h) == "SRQ")]
  
  if(!(is.numeric(SRQ))){SRQ <- rep(NA, nrow(h))}
  
  CONSENSUS <- h[,which(colnames(h) == "CONSENSUS")]
  
  if(!(is.character(CONSENSUS))){CONSENSUS <- rep(NA, nrow(h))}
  
  CE <- h[,which(colnames(h) == "CE")]
  
  if(!(is.numeric(CE))){CE <- rep(NA, nrow(h))}
  
  CT <- h[,which(colnames(h) == "CT")]
  
  if(!(is.character(CT))){CT <- rep(NA, nrow(h))}
  
  IMPRECISE <- h[,which(colnames(h) == "IMPRECISE")]
  
  if(!(is.character(IMPRECISE))){IMPRECISE <- rep(NA, nrow(h))}
  
  PRECISE <- h[,which(colnames(h) == "PRECISE")]
  
  if(!(is.character(PRECISE))){PRECISE <- rep(NA, nrow(h))}
  
  SVTYPE <- h[,which(colnames(h) == "SVTYPE")]
  
  if(!(is.character(SVTYPE))){SVTYPE <- rep(NA, nrow(h))}
  
  SVMETHOD <- h[,which(colnames(h) == "SVMETHOD")]
  
  if(!(is.character(SVMETHOD))){SVMETHOD <- rep(NA, nrow(h))}
  
  INSLEN <- h[,which(colnames(h) == "INSLEN")]
  
  if(!(is.numeric(INSLEN))){INSLEN <- rep(NA, nrow(h))}
  
  HOMLEN <- h[,which(colnames(h) == "HOMLEN")]
  
  if(!(is.numeric(HOMLEN))){HOMLEN <- rep(NA, nrow(h))}
  
  RDRATIO <- h[,which(colnames(h) == "RDRATIO")]
  
  if(!(is.numeric(RDRATIO))){RDRATIO <- rep(NA, nrow(h))}
  
  SOMATIC <- h[,which(colnames(h) == "SOMATIC")]
  
  if(!(is.character(SOMATIC))){SOMATIC <- rep(NA, nrow(h))}
  
  ID <- rep(som_files[i], nrow(c))
  
  som_germ <- rep("som", nrow(c))
  
  j <- cbind(b,ID,som_germ,c,d,e,f,g,
             CIEND,
             CIPOS,
             CHR2,
             END,
             PE,
             MAPQ,
             SRMAPQ,
             SR,
             SRQ,
             CONSENSUS,
             CE,
             CT,
             IMPRECISE,
             PRECISE,
             SVTYPE,
             SVMETHOD,
             INSLEN,
             HOMLEN,
             RDRATIO,
             SOMATIC
             )
  
  j <- j[,!(colnames(j) %in% c("AC", "AN"))]
  
  assign(paste(som_files[i], "_df", sep = ""), j)
  
  rm(a,b,c,d,e,f,g,h,j,ID,som_germ,
             CIEND,
             CIPOS,
             CHR2,
             END,
             PE,
             MAPQ,
             SRMAPQ,
             SR,
             SRQ,
             CONSENSUS,
             CE,
             CT,
             IMPRECISE,
             PRECISE,
             SVTYPE,
             SVMETHOD,
             INSLEN,
             HOMLEN,
             RDRATIO,
             SOMATIC)
## This is the closure of the for-loop
}

# Combine the somatic VCF files 

som_df <- do.call("rbind", lapply( paste( som_files, "_df", sep = ""), as.name))

# Remove the multiple somatic data frames 

do.call("rm", lapply( paste(som_files, "_df", sep = ""), as.name))

# Remove columns filled with NA values

som_df <- som_df[,sapply(1:ncol(som_df), function(x)!(all(is.na(som_df[,x]))))]

# Remove .1 suffix that originally arose because of an empty DP column being added

colnames(som_df) <- gsub(".1", "", colnames(som_df))

# Include in the 'som_df' data frame, 2 new columns derived from existing columns, providing additional information about the chromosome, position, reference allele and alternative allele values

chrom_pos <- paste(som_df$CHROM, som_df$POS, sep = "_")

CPRA <- paste(som_df$CHROM, som_df$POS, som_df$REF, som_df$ALT, sep = "_")

som_df <- cbind(som_df, chrom_pos, CPRA)

rm(chrom_pos, CPRA)

# Perform a 'for' loop structure to iterate over over files specified by "germ_file_paths" vector, to extract relevant information including genotype calls, allele depth, allele frequency, depth of coverage, and additional INFO fields

for(i in 1:length(germ_file_paths)){
  
  a <- read.vcfR(germ_file_paths[i]) 
  
  if(nrow(extract.gt(a, element = "GT")) == 1){
    
    b <- t(as.data.frame(getFIX(a, getINFO = F))) 

    rownames(b) <- 1
  } 
  
  if(nrow(extract.gt(a, element = "GT")) == 0 | nrow(extract.gt(a, element = "GT")) > 1){b <- as.data.frame(getFIX(a, getINFO = F))} 
  
 ## b <- getFIX(a, getINFO = F)
  
 ## b <- t(as.matrix(b[which(names(b) != "ID")])) 
  
 ## b <- b[, colnames(b) != "ID"] 
  
  c <- extract.gt(a, element = "GT", mask = FALSE, return.alleles = FALSE, convertNA = T, IDtoRowNames = FALSE) 
  
  c <- as.data.frame(c[,1]) 
  
  names(c) <- "GT" 
  
  d <- extract.gt(a, element = "AD", mask = FALSE, return.alleles = FALSE, convertNA = T, IDtoRowNames = FALSE) 
  
  d <- as.data.frame(d[,1]) 
  
  names(d) <- "AD" 
  
  e <- extract.gt(a, element = "AF", mask = FALSE, return.alleles = FALSE, convertNA = T, IDtoRowNames = FALSE) 
  
  e <- as.data.frame(e[,1]) 
  
  names(e) <- "AF" 
  
  f <- extract.gt(a, element = "DP", mask = FALSE, return.alleles = FALSE, convertNA = T, IDtoRowNames = FALSE) 
  
  f <- as.data.frame(f[,1]) 
  
  names(f) <- "DP" 
  
  g <- extract.gt(a, element = "GQ", mask = FALSE, return.alleles = FALSE, convertNA = T, IDtoRowNames = FALSE) 
  
  g <- as.data.frame(g[,1]) 
  
  names(g) <- "GQ" 
  
##  h <- as.data.frame(INFO2df(a))
  
  h <- INFO2df(a)
  
##  colnames(CMDL21002199_S13_df)
  
  CIEND <- h[,which(colnames(h) == "CIEND")]
  
  if(!(is.character(CIEND))){CIEND <- rep(NA, nrow(h))}
  
  CIPOS <- h[,which(colnames(h) == "CIPOS")]
  
  if(!(is.character(CIPOS))){CIPOS <- rep(NA, nrow(h))}
  
  CHR2 <- h[,which(colnames(h) == "CHR2")]
  
  if(!(is.character(CHR2))){CHR2 <- rep(NA, nrow(h))}
  
  END <- h[,which(colnames(h) == "END")]
  
  if(!(is.numeric(END))){END <- rep(NA, nrow(h))}
  
  PE <- h[,which(colnames(h) == "PE")]
  
  if(!(is.numeric(PE))){PE <- rep(NA, nrow(h))}
  
  MAPQ <- h[,which(colnames(h) == "MAPQ")]
  
  if(!(is.numeric(MAPQ))){MAPQ <- rep(NA, nrow(h))}
  
  SRMAPQ <- h[,which(colnames(h) == "SRMAPQ")]
  
  if(!(is.numeric(SRMAPQ))){SRMAPQ <- rep(NA, nrow(h))}
  
  SR <- h[,which(colnames(h) == "SR")]
  
  if(!(is.numeric(SR))){SR <- rep(NA, nrow(h))}
  
  SRQ <- h[,which(colnames(h) == "SRQ")]
  
  if(!(is.numeric(SRQ))){SRQ <- rep(NA, nrow(h))}
  
  CONSENSUS <- h[,which(colnames(h) == "CONSENSUS")]
  
  if(!(is.character(CONSENSUS))){CONSENSUS <- rep(NA, nrow(h))}
  
  CE <- h[,which(colnames(h) == "CE")]
  
  if(!(is.numeric(CE))){CE <- rep(NA, nrow(h))}
  
  CT <- h[,which(colnames(h) == "CT")]
  
  if(!(is.character(CT))){CT <- rep(NA, nrow(h))}
  
  IMPRECISE <- h[,which(colnames(h) == "IMPRECISE")]
  
  if(!(is.character(IMPRECISE))){IMPRECISE <- rep(NA, nrow(h))}
  
  PRECISE <- h[,which(colnames(h) == "PRECISE")]
  
  if(!(is.character(PRECISE))){PRECISE <- rep(NA, nrow(h))}
  
  SVTYPE <- h[,which(colnames(h) == "SVTYPE")]
  
  if(!(is.character(SVTYPE))){SVTYPE <- rep(NA, nrow(h))}
  
  SVMETHOD <- h[,which(colnames(h) == "SVMETHOD")]
  
  if(!(is.character(SVMETHOD))){SVMETHOD <- rep(NA, nrow(h))}
  
  INSLEN <- h[,which(colnames(h) == "INSLEN")]
  
  if(!(is.numeric(INSLEN))){INSLEN <- rep(NA, nrow(h))}
  
  HOMLEN <- h[,which(colnames(h) == "HOMLEN")]
  
  if(!(is.numeric(HOMLEN))){HOMLEN <- rep(NA, nrow(h))}
  
  RDRATIO <- h[,which(colnames(h) == "RDRATIO")]
  
  if(!(is.numeric(RDRATIO))){RDRATIO <- rep(NA, nrow(h))}
  
  SOMATIC <- h[,which(colnames(h) == "SOMATIC")]
  
  if(!(is.character(SOMATIC))){SOMATIC <- rep(NA, nrow(h))}
  
  ID <- rep(germ_files[i], nrow(c))
  
  som_germ <- rep("germ", nrow(c))
  
  j <- cbind(b,ID,som_germ,c,d,e,f,g,
             CIEND,
             CIPOS,
             CHR2,
             END,
             PE,
             MAPQ,
             SRMAPQ,
             SR,
             SRQ,
             CONSENSUS,
             CE,
             CT,
             IMPRECISE,
             PRECISE,
             SVTYPE,
             SVMETHOD,
             INSLEN,
             HOMLEN,
             RDRATIO,
             SOMATIC
             )
  
  j <- j[,!(colnames(j) %in% c("AC", "AN"))]
  
  assign(paste(germ_files[i], "_df", sep = ""), j)
  
  rm(a,b,c,d,e,f,g,h,j,ID,som_germ,
             CIEND,
             CIPOS,
             CHR2,
             END,
             PE,
             MAPQ,
             SRMAPQ,
             SR,
             SRQ,
             CONSENSUS,
             CE,
             CT,
             IMPRECISE,
             PRECISE,
             SVTYPE,
             SVMETHOD,
             INSLEN,
             HOMLEN,
             RDRATIO,
             SOMATIC)
## This is the end of the for-loop
  }

# Combine the germline VCF files 

germ_df <- do.call("rbind", lapply( paste( germ_files, "_df", sep = ""), as.name))

# Remove the multiple germline data frames 

do.call("rm", lapply(paste(germ_files, "_df", sep = ""), as.name))

# Remove columns filled with NA values

germ_df <- germ_df[,sapply(1:ncol(germ_df), function(x)!(all(is.na(germ_df[,x]))))]

# Remove .1 suffix that originally arose because of an empty DP column being added

colnames(germ_df) <- gsub(".1", "", colnames(germ_df))

# Include in the 'germ_df' data frame, 2 new columns derived from existing columns, providing additional information about the chromosome, position, reference allele and alternative allele values

chrom_pos <- paste(germ_df$CHROM, germ_df$POS, sep = "_")

CPRA <- paste(germ_df$CHROM, germ_df$POS, germ_df$REF, germ_df$ALT, sep = "_")

germ_df <- cbind(germ_df, chrom_pos, CPRA)

rm(chrom_pos, CPRA)

# convert CIEND, CIPOS & GQ colums to numeric type 

germ_df$CIEND <- sub(",", ".", germ_df$CIEND)

germ_df$CIPOS <- sub(",", ".", germ_df$CIPOS)

germ_df$CIEND <- as.numeric(germ_df$CIEND)

germ_df$CIPOS <- as.numeric(germ_df$CIPOS)

germ_df$GQ <- as.numeric(germ_df$GQ)

som_df$CIEND <- sub(",", ".", som_df$CIEND)

som_df$CIPOS <- sub(",", ".", som_df$CIPOS)

som_df$CIEND <- as.numeric(som_df$CIEND)

som_df$CIPOS <- as.numeric(som_df$CIPOS)

som_df$GQ <- as.numeric(som_df$GQ)

# Draw histograms of MAPQ, SRMAPQ, CIEND, CIPOS, GQ

hist (som_df$MAPQ,
     breaks = "FD",
     col = "lightblue",
     xlab = "Mapping Quality (MAPQ)",
     ylab = "Frequency",
     main = "Histogram of Mapping Quality (MAPQ) of Tumour Samples") 

hist (som_df$SRMAPQ,
     breaks = "FD",
     col = "lightblue",
     xlab = "Split-Read Mapping Quality (SRMAPQ)",
     ylab = "Frequency",
     main = "Histogram of Split-Read Mapping Quality (SRMAPQ) of Tumour Samples") 

hist (som_df$CIEND,
     breaks = "FD",
     col = "lightblue",
     xlab = "Confidence Interval for the End Position of the SV (CIEND)",
     ylab = "Frequency",
     main = "Histogram of CIEND") 

hist (som_df$CIPOS,
     breaks = "FD",
     col = "lightblue",
     xlab = "Confidence Interval of the Start Position of the SV (CIPOS)",
     ylab = "Frequency",
     main = "Histogram of CIPOS") 

hist (som_df$GQ,
     breaks = "FD",
     col = "lightblue",
     xlab = "Genotype Quality (GQ)",
     ylab = "Frequency",
     main = "Histogram of Genotype Quality (GQ)") 
     
# Filter som_df

filtered_som_df <- som_df[(som_df$MAPQ >= 20 | som_df$SRMAPQ >= 20) & som_df$CIEND >= -20 & som_df$CIPOS >= -20 & som_df$GQ >= 20, ]

# Read CMDL gene panel list into R

GenePanel_list <- read.delim("/home/ij280/CMDL_gene_panel_list_FINAL_050623.txt", header = T, na.strings = "")

# edit column names in som_df, filtered_som_df and germ_df

new_names <- c("CHROM", "POS", "ID1", "REF", "ALT", "QUAL", "FILTER", "ID2", "som_germ", "GT", "GQ", "CIEND", "CIPOS", "CHR2", "END", "PE",   "MAPQ", "SRMAPQ", "SR", "SRQ", "CONSENSUS", "CE", "CT", "SVTYPE", "SVMETHOD", "INSLEN", "HOMLEN", "RDRATIO", "chrom_pos", "CPRA")

new_names2 <- c("CHROM", "POS", "ID1", "REF", "ALT", "QUAL", "FILTER", "ID2", "som_germ", "GT", "GQ", "CIEND", "CIPOS", "CHR2", "END", "PE",   "MAPQ", "SRMAPQ", "SR", "SRQ", "CONSENSUS", "CE", "CT", "SVTYPE", "SVMETHOD", "INSLEN", "HOMLEN", "chrom_pos", "CPRA")

colnames(filtered_som_df) <- new_names

colnames(som_df) <- new_names

colnames(germ_df) <- new_names2 

# convert variant start coordinate columns to numeric types

som_df$POS <- as.numeric(som_df$POS)

germ_df$POS <- as.numeric(germ_df$POS)

filtered_som_df$POS <- as.numeric(filtered_som_df$POS)

# concatenate the string "chr" with the values in the "Chromosome.scaffold.name" column of GenePanel_list

GenePanel_list$Chromosome.scaffold.name <- paste0("chr", GenePanel_list$Chromosome.scaffold.name)

# rename "Chromosome.scaffold.name" column of GenePanel_list

colnames(GenePanel_list)[colnames(GenePanel_list) == "Chromosome.scaffold.name"] <- "CHROM"

# filter out rows with missing values 

GenePanel_list_clean <- na.omit(GenePanel_list)

# Identify BND variants in filtered_som_df which overlap with genes in GenePanel_list_clean

## filter BND variants 

BND_variants <- filtered_som_df[filtered_som_df$SVTYPE == "BND", ] 

## apply sapply function and store the gene names in the vector

test_BND <- BND_variants[1:260,]

### create an empty vector to store  the gene names 
  
BND.gene.names <- vector("character", length = nrow(test_BND))

BND.gene.names <- sapply(1:nrow(test_BND), function(x) { 
 
 matching_genes <- GenePanel_list_clean$Gene.name[
   
which(   

(test_BND$CHROM[x] == GenePanel_list_clean$CHROM) & 
  
  ((test_BND$POS[x] > GenePanel_list_clean$Gene.start..bp. & test_BND$POS[x] < GenePanel_list_clean$Gene.end..bp.))
 )
]

## concatenate multiple gene names into a single string

if (length(matching_genes) > 0) {
  
 BND.gene.names <- paste(matching_genes, collapse = ", ")
 
} else {
  
  BND.gene.names <- NA
  
}
 
BND.gene.names

}) 

test_BND$Gene.symbol <- BND.gene.names

 ## GenePanel_list_clean$Gene.name[54]
 
# Identify DEL variants in filtered_som_df which overlap with genes in GenePanel_list_clean

 ## filter DEL variants 

DEL_variants <- filtered_som_df[filtered_som_df$SVTYPE == "DEL", ] 

## apply sapply function and store the gene names in the vector

test_DEL <- DEL_variants[1:215,]
  
### create an empty vector to store  the gene names 
  
DEL.gene.names <- vector("character", length = nrow(test_DEL))

DEL.gene.names <- sapply(1:nrow(test_DEL), function(x) { 
 
 matching_genes2 <-  GenePanel_list_clean$Gene.name[
   
which(   

(test_DEL$CHROM[x] == GenePanel_list_clean$CHROM) &
  
  ((test_DEL$POS[x] < GenePanel_list_clean$Gene.start..bp. & (test_DEL$END[x] > GenePanel_list_clean$Gene.start..bp. & test_DEL$END[x] < 
                                                               
                                                               GenePanel_list_clean$Gene.end..bp.)) | 
     
     (test_DEL$END[x] > GenePanel_list_clean$Gene.end..bp. & (test_DEL$POS[x] > GenePanel_list_clean$Gene.start..bp. & test_DEL$POS[x] < 
                                                                
                                                                GenePanel_list_clean$Gene.end..bp.)) |
     
     (test_DEL$POS[x] < GenePanel_list_clean$Gene.start..bp. & test_DEL$END[x] > GenePanel_list_clean$Gene.end..bp.) |
     
     (test_DEL$POS[x] > GenePanel_list_clean$Gene.start..bp. & test_DEL$END[x] < GenePanel_list_clean$Gene.end..bp.))
  )
]

## concatenate multiple gene names into a single string

if (length(matching_genes2) > 0) {
  
 DEL.gene.names <- paste(matching_genes2, collapse = ", ")
 
} else {
  
  DEL.gene.names <- NA
  
}
 
DEL.gene.names

}) 

test_DEL$Gene.symbol <- DEL.gene.names

# Identify DUP variants in filtered_som_df which overlap with genes in GenePanel_list_clean

 ## filter DUP variants 

DUP_variants <- filtered_som_df[filtered_som_df$SVTYPE == "DUP", ] 

## apply sapply function and store the gene names in the vector

test_DUP <- DUP_variants[1:103,]
  
### create an empty vector to store the gene names 
  
DUP.gene.names <- vector("character", length = nrow(test_DEL))

DUP.gene.names <-  sapply(1:nrow(test_DUP), function(x) { 
 
 matching_genes3 <- GenePanel_list_clean$Gene.name[
   
which(   

(test_DUP$CHROM[x] == GenePanel_list_clean$CHROM) & 
  
  ((test_DUP$POS[x] < GenePanel_list_clean$Gene.start..bp. & (test_DUP$END[x] > GenePanel_list_clean$Gene.start..bp. & test_DUP$END[x] < 
                                                               
                                                               GenePanel_list_clean$Gene.end..bp.)) | 
     
     (test_DUP$END[x] > GenePanel_list_clean$Gene.end..bp. & (test_DUP$POS[x] > GenePanel_list_clean$Gene.start..bp. & test_DUP$POS[x] < 
                                                                
                                                                GenePanel_list_clean$Gene.end..bp.)) |
     
     (test_DUP$POS[x] < GenePanel_list_clean$Gene.start..bp. & test_DUP$END[x] > GenePanel_list_clean$Gene.end..bp.) |
     
     (test_DUP$POS[x] > GenePanel_list_clean$Gene.start..bp. & test_DUP$END[x] < GenePanel_list_clean$Gene.end..bp.))
  )
]
   
## concatenate multiple gene names into a single string

if (length(matching_genes3) > 0) {
  
 DUP.gene.names <- paste(matching_genes3, collapse = ", ")
 
} else {
  
  DUP.gene.names <- NA
  
}
 
DUP.gene.names

}) 

test_DUP$Gene.symbol <- DUP.gene.names

# Identify INV variants in filtered_som_df which overlap with genes in GenePanel_list_clean

 ## filter INV variants 

INV_variants <- filtered_som_df[filtered_som_df$SVTYPE == "INV", ] 

## apply sapply function and store the gene names in the vector

test_INV <- INV_variants[1:237,]
  
### create an empty vector to store  the gene names 
  
INV.gene.names <- vector("character", length = nrow(test_INV))

INV.gene.names <- sapply(1:nrow(test_INV), function(x) { 
 
 matching_genes4 <- GenePanel_list_clean$Gene.name[
   
   which(   
     
     (test_INV$CHROM[x] == GenePanel_list_clean$CHROM) & 
  
  ((test_INV$POS[x] > GenePanel_list_clean$Gene.start..bp. & test_INV$POS[x] < GenePanel_list_clean$Gene.end..bp.) |
     
   (test_INV$END[x] > GenePanel_list_clean$Gene.start..bp. & test_INV$END[x] < GenePanel_list_clean$Gene.end..bp.))
     
)
]

## concatenate multiple gene names into a single string

if (length(matching_genes4) > 0) {
  
 INV.gene.names <- paste(matching_genes4, collapse = ", ")
 
} else {
  
  INV.gene.names <- NA
  
}
 
INV.gene.names

}) 

test_INV$Gene.symbol <- INV.gene.names

# Identify large insertion variants in filtered_som_df which overlap with genes in GenePanel_list_clean
 
 ## filter large insertion variants 

l_INS_variants <- filtered_som_df[filtered_som_df$SVTYPE == "INS", ] 

## apply sapply function and store the gene names in the vector

test_l_INS <- l_INS_variants[1:3,]
  
### create an empty vector to store the gene names 
  
l_INS.gene.names <- vector("character", length = nrow(test_l_INS))

l_INS.gene.names <-  sapply(1:nrow(test_l_INS), function(x) { 
 
 matching_genes5 <- GenePanel_list_clean$Gene.name[
   
which(   

(test_l_INS$CHROM[x] == GenePanel_list_clean$CHROM) & 
  
  ((test_l_INS$POS[x] < GenePanel_list_clean$Gene.start..bp. & (test_l_INS$END[x] > GenePanel_list_clean$Gene.start..bp. & test_l_INS$END[x] < 
                                                               
                                                               GenePanel_list_clean$Gene.end..bp.)) | 
     
     (test_l_INS$END[x] > GenePanel_list_clean$Gene.end..bp. & (test_l_INS$POS[x] > GenePanel_list_clean$Gene.start..bp. & test_l_INS$POS[x] < 
                                                                
                                                                GenePanel_list_clean$Gene.end..bp.)) |
     
     (test_l_INS$POS[x] < GenePanel_list_clean$Gene.start..bp. & test_l_INS$END[x] > GenePanel_list_clean$Gene.end..bp.) |
     
     (test_l_INS$POS[x] > GenePanel_list_clean$Gene.start..bp. & test_l_INS$END[x] < GenePanel_list_clean$Gene.end..bp.)
  ))
]
   
## concatenate multiple gene names into a single string

if (length(matching_genes5) > 0) {
  
 l_INS.gene.names <- paste(matching_genes5, collapse = ", ")
 
} else {
  
  l_INS.gene.names <- NA
  
}
 
l_INS.gene.names

}) 

test_l_INS$Gene.symbol <- l_INS.gene.names

# merge all variant data frames 

som_variants <- rbind(test_BND, test_DEL, test_DUP, test_INV, test_l_INS)

# Include patient ID in som_variants

som_variants_Patient_ID <- som_variants[1:818, ]

Patient.ID <- vector("character", length = nrow(som_variants_Patient_ID)) 
  
Patient.ID <- sapply(1:nrow(som_variants_Patient_ID), function(x) {
  
  matching_Patient_ID <- Tumour_blocks_info$ID [
    
    which(
      
      som_variants$ID2[x] == Tumour_blocks_info$Data_file_prefix
    )
  ]
  
  if (length(matching_Patient_ID) > 0) {
    
    Patient.ID <- paste(matching_Patient_ID, collapse = ", ")
    
  } else {
    
    Patient.ID <- NA
  }
  
  Patient.ID

} 
  )
som_variants_Patient_ID$Patient.ID <- Patient.ID

## Tumour_blocks_info$Germine_data_prefix[  which(Tumour_blocks_info$Data_file_prefix %in% som_df$ID2[7])  ]

# Identify genes affected by variants 

## which(som_variants_Patient_ID$Gene.symbol == ".")

## grep(".", som_variants_Patient_ID$Gene.symbol)

## grep("\\bSTAG2\\b", som_variants_Patient_ID$Gene.symbol)

search_words <- c("\\bSTAG2\\b", "\\bFOXP1\\b", "\\bAR\\b", "\\bARID5B\\b", "\\bBRD4\\b", "\\bRET\\b", "\\bROS1\\b", "\\bBRAF\\b", "\\bATM\\b", 
                  "\\bKDM5A\\b", "\\bFLT1\\b", "\\bTSHR\\b", "\\bGRIN2A\\b", "\\bCDH1\\b", "\\bFANCA\\b", "\\bERBB2\\b", "\\bDNMT3B\\b", 
                  "\\bTMPRSS2\\b", "\\bLATS1\\b", "\\bPTPRD\\b", "\\bPMS2\\b", "\\bCDKN1B\\b", "\\bRB1\\b", "\\bSMARCA4\\b", "\\bMED12\\b", 
                  "\\bFAT1\\b", "\\bARID1B\\b", "\\bEP300\\b", "\\bATRX\\b", "\\bAXIN1\\b", "\\bKDM5C\\b", "\\bTSC1\\b", "\\bARID2\\b", 
                  "\\bTP53\\b", "\\bALOX12B\\b", "\\bAKT2\\b", "\\bAXL\\b", "\\bNOTCH3\\b", "\\bNF2\\b", "\\bCSF1R\\b", "\\bRUNX1\\b", "\\bKDR\\b",
                  "\\bCIC\\b", "\\bRAD51\\b", "\\bRARA\\b", "\\bERG\\b", "\\bRICTOR\\b", "\\bNF1\\b", "\\bBAP1\\b", "\\bPTPRT\\b", "\\bPAX5\\b", 
                  "\\bMAX\\b", "\\bBLM\\b", "\\bERCC2\\b", "\\bPOLD1\\b", "\\bSH2D1A\\b", "\\bCRLF2\\b", "\\bETV1\\b", "\\bHGF\\b", "\\bCBL\\b", 
                  "\\bYES1\\b", "\\bSMAD4\\b", "\\bERBB4\\b", "\\bSF3B1\\b", "\\bAPC\\b", "\\bGATA3\\b", "\\bMTOR\\b", "\\bATR\\b", "\\bINPP4B\\b",
                  "\\bSPOP\\b", "\\bSMAD2\\b", "\\bCTNNB1\\b", "\\bAURKA\\b", "\\bAXIN2\\b", "\\bBCL2\\b", "\\bBMPR1A\\b", "\\bBRIP1\\b", 
                  "\\bCBFB\\b", "\\bCCND1\\b", "\\bCD276\\b", "\\bCD79B\\b", "\\bCDK4\\b", "\\bCDK6\\b", "\\bCTCF\\b", "\\bDIS3\\b", "\\bEED\\b", 
                  "\\bEGFR\\b", "\\bEPHA3\\b", "\\bEPHA5\\b", "\\bERBB3\\b", "\\bFANCL\\b", "\\bFGF19\\b", "\\bFGF3\\b", "\\bFGF4\\b", 
                  "\\bFRS2\\b", "\\bFUBP1\\b", "\\bGNAQ\\b", "\\bGNAS\\b", "\\bIDH2\\b", "\\bJAK1\\b", "\\bJUN\\b", "\\bKIT\\b", "\\bMALT1\\b", 
                  "\\bMAP2K1\\b", "\\bMAP3K1\\b", "\\bMDM2\\b", "\\bMEN1\\b", "\\bMITF\\b", "\\bNBN\\b", "\\bNTRK2\\b", "\\bNTRK3\\b", 
                  "\\bPAK1\\b", "\\bPDGFRA\\b", "\\bPIK3R1\\b", "\\bPLK2\\b", "\\bPMAIP1\\b", "\\bPNRC1\\b", "\\bPRKAR1A\\b", "\\bPTEN\\b", 
                  "\\bRAD51B\\b", "\\bRAD51C\\b", "\\bRASA1\\b", "\\bREL\\b", "\\bRNF43\\b", "\\bRPS6KA4\\b", "\\bRPS6KB2\\b", "\\bRPTOR\\b", 
                  "\\bSDHAF2\\b", "\\bSHQ1\\b", "\\bSMAD3\\b", "\\bSOX17\\b", "\\bSOX9\\b", "\\bSYK\\b", "\\bTET1\\b", "\\bXPO1\\b", 
                  "\\bPDGFRB\\b", "\\bNSD1\\b", "\\bEPHB1\\b", "\\bMAP3K13\\b", "\\bNOTCH4\\b", "\\bJAK2\\b", "\\bBRCA2\\b", "\\bAURKB\\b", 
                  "\\bCD274\\b", "\\bDNMT1\\b", "\\bERCC4\\b", "\\bETV6\\b", "\\bINSR\\b", "\\bKEAP1\\b", "\\bLMO1\\b", "\\bMAD2L2\\b", 
                  "\\bMAP2K4\\b", "\\bPIK3CD\\b", "\\bB2M\\b", "\\bBCOR\\b", "\\bBRCA1\\b", "\\bCCND3\\b", "\\bPTPRS\\b", "\\bRAC1\\b", 
                  "\\bRAF1\\b", "\\bSOCS1\\b", "\\bVHL\\b", "\\bALK\\b", "\\bCCNE1\\b", "\\bFANCM\\b", "\\bICOSLG\\b", "\\bIRAK4\\b", 
                  "\\bKDM6A\\b", "\\bMPL\\b", "\\bMUTYH\\b", "\\bPHOX2B\\b", "\\bPIK3C3\\b", "\\bPIK3R3\\b", "\\bRAD54L\\b", "\\bRBM10\\b", 
                  "\\bSETD2\\b", "\\bTOP1\\b", "\\bU2AF1\\b", "\\bAKT1\\b", "\\bBCL2L11\\b", "\\bBTK\\b", "\\bDICER1\\b", "\\bERCC5\\b", 
                  "\\bFANCC\\b", "\\bIGF1\\b", "\\bIGF1R\\b", "\\bINPP4A\\b", "\\bIRS2\\b", "\\bKLF4\\b", "\\bPIK3CG\\b", "\\bPRDM1\\b", 
                  "\\bPTCH1\\b", "\\bPTPN11\\b", "\\bSDHD\\b", "\\bSUFU\\b", "\\bTET2\\b", "\\bTGFBR1\\b", "\\bTMEM127\\b", "\\bYAP1\\b", 
                  "\\bPOLE\\b", "\\bDDR2\\b", "\\bRECQL4\\b", "\\bTRAF7\\b", "\\bESR1\\b", "\\bFBXW7\\b", "\\bMCL1\\b", "\\bNPM1\\b", 
                  "\\bNTRK1\\b", "\\bRHEB\\b", "\\bRIT1\\b", "\\bSDHC\\b", "\\bARAF\\b", "\\bASXL1\\b", "\\bBBC3\\b", "\\bCDK12\\b", 
                  "\\bCDKN1A\\b", "\\bCDKN2C\\b", "\\bDAXX\\b", "\\bEPCAM\\b", "\\bFGFR1\\b", "\\bFOXA1\\b", "\\bGATA1\\b", "\\bGREM1\\b", 
                  "\\bIKZF1\\b", "\\bIL7R\\b", "\\bMLH1\\b", "\\bMSH2\\b", "\\bMSH6\\b", "\\bMSH6\\b", "\\bMYD88\\b", "\\bNKX2-1\\b", "\\bPIM1\\b",
                  "\\bPPP2R1A\\b", "\\bRAD51D\\b", "\\bRHOA\\b", "\\bSMARCD1\\b", "\\bSRC\\b", "\\bSTK40\\b", "\\bWT1\\b", "\\bGSK3B\\b", 
                  "\\bNOTCH2\\b", "\\bRAD50\\b",  "\\bNCOR1\\b", "\\bDCUN1D1\\b", "\\bCREBBP\\b", "\\bPALB2\\b", "\\bCASP8\\b","\\bFLCN\\b", 
                  "\\bTNFAIP3\\b", "\\bMYCN\\b", "\\bSPEN\\b", "\\bTERT\\b", "\\bXIAP\\b", "\\bFLT3\\b", "\\bMAP2K2\\b", "\\bMEF2B\\b", 
                  "\\bABL1\\b", "\\bCHEK1\\b", "\\bEGFL7\\b", "\\bERCC3\\b", "\\bEZH2\\b", "\\bFGFR2\\b", "\\bFOXL2\\b", "\\bGATA2\\b", 
                  "\\bHNF1A\\b", "\\bIFNGR1\\b", "\\bMET\\b", "\\bMYC\\b", "\\bNOTCH1\\b", "\\bNRAS\\b", "\\bPIK3CB\\b", "\\bSMO\\b", "\\bTBX3\\b",
                  "\\bVTCN1\\b", "\\bBARD1\\b", "\\bBCL6\\b", "\\bCDC73\\b", "\\bCTLA4\\b", "\\bFGFR4\\b", "\\bFLT4\\b", "\\bIDH1\\b", 
                  "\\bIKBKE\\b", "\\bIL10\\b", "\\bMDM4\\b", "\\bMET\\b", "\\bNFE2L2\\b", "\\bPIK3CA\\b", "\\bPMS1\\b", "\\bSOX2\\b", "\\bTP63\\b",
                  "\\bCARD11\\b", "\\bFH\\b", "\\bPDCD1\\b", "\\bCDK8\\b", "\\bPPP2R2A\\b", "\\bARID1A\\b", "\\bASXL2\\b", "\\bBCL2L1\\b", 
                  "\\bCDKN2A\\b", "\\bCDKN2B\\b", "\\bCHEK2\\b", "\\bCRKL\\b", "\\bDNMT3A\\b", "\\bE2F3\\b", "\\bEIF1AX\\b", "\\bJAK3\\b", 
                  "\\bMYOD1\\b", "\\bKRAS\\b", "\\bLATS2\\b", "\\bMAPK1\\b", "\\bMDC1\\b", "\\bNKX3-1\\b", "\\bPIK3C2G\\b", "\\bPIK3R2\\b", 
                  "\\bSDHB\\b", "\\bRAD52\\b", "\\bSMARCB1\\b", "\\bSUZ12\\b", "\\bTGFBR2\\b", "\\bDOT1L\\b", "\\bPARP1\\b", "\\bFGFR3\\b", 
                  "\\bSTK11\\b", "\\bCCND2\\b")

search_results <- sapply(search_words, function(word) {
  
  counts <- grep(word, som_variants_Patient_ID$Gene.symbol, value = FALSE)
  
  count <- length(counts)
}
  )

som_variants_affecting_genes <- data.frame(SearchWord = search_words, Count = search_results)

# separate Gene.symbols entries 

som_variants_Patient_ID_separated <- do.call(rbind, lapply(seq_len(nrow(som_variants_Patient_ID)), function(i) {
  
  gene_symbols <- strsplit(as.character(som_variants_Patient_ID$Gene.symbol[i]), ",\\s*")[[1]]
  
  num_genes <- length(gene_symbols)
  
  if(num_genes > 0) {
    
    data.frame(
      
      CHROM = rep(som_variants_Patient_ID$CHROM[i], num_genes),
      
      POS = rep(som_variants_Patient_ID$POS[i], num_genes),
      
      ID1 = rep(som_variants_Patient_ID$ID1[i], num_genes),
      
      REF = rep(som_variants_Patient_ID$REF[i], num_genes),
      
      ALT = rep(som_variants_Patient_ID$ALT[i], num_genes),
      
      QUAL = rep(som_variants_Patient_ID$QUAL[i], num_genes),
      
      FILTER = rep(som_variants_Patient_ID$FILTER[i], num_genes),
      
      ID2 = rep(som_variants_Patient_ID$ID2[i], num_genes),
      
      som_germ = rep(som_variants_Patient_ID$som_germ[i], num_genes),
      
      GT = rep(som_variants_Patient_ID$GT[i], num_genes),
      
      GQ = rep(som_variants_Patient_ID$GQ[i], num_genes),
      
      CIEND = rep(som_variants_Patient_ID$CIEND[i], num_genes),
      
      CIPOS = rep(som_variants_Patient_ID$CIPOS[i], num_genes),
      
      CHR2 = rep(som_variants_Patient_ID$CHR2[i], num_genes),
      
      END = rep(som_variants_Patient_ID$END[i], num_genes),
      
      PE = rep(som_variants_Patient_ID$PE[i], num_genes),
      
      MAPQ = rep(som_variants_Patient_ID$MAPQ[i], num_genes),
      
      SRMAPQ = rep(som_variants_Patient_ID$SRMAPQ[i], num_genes),
      
      CONSENSUS = rep(som_variants_Patient_ID$CONSENSUS[i], num_genes),
      
      CE = rep(som_variants_Patient_ID$CE[i], num_genes),
      
      CT = rep(som_variants_Patient_ID$CT[i], num_genes),
      
      SVTYPE = rep(som_variants_Patient_ID$SVTYPE[i], num_genes),
      
      SVMETHOD = rep(som_variants_Patient_ID$SVMETHOD[i], num_genes),
      
      INSLEN = rep(som_variants_Patient_ID$INSLEN[i], num_genes),
      
      HOMLEN = rep(som_variants_Patient_ID$HOMLEN[i], num_genes),
      
      RDRATIO = rep(som_variants_Patient_ID$RDRATIO[i], num_genes),
      
      chrom_pos = rep(som_variants_Patient_ID$chrom_pos[i], num_genes),
      
      CPRA = rep(som_variants_Patient_ID$CPRA[i], num_genes),
      
      Gene.symbol = gene_symbols,
      
      Patient.ID = rep(som_variants_Patient_ID$Patient.ID[i], num_genes)
    )
    
  } else {
    
    data.frame(
      
      CHROM = rep(som_variants_Patient_ID$CHROM[i], num_genes),
      
      POS = rep(som_variants_Patient_ID$POS[i], num_genes),
      
      ID1 = rep(som_variants_Patient_ID$ID1[i], num_genes),
      
      REF = rep(som_variants_Patient_ID$REF[i], num_genes),
      
      ALT = rep(som_variants_Patient_ID$ALT[i], num_genes),
      
      QUAL = rep(som_variants_Patient_ID$QUAL[i], num_genes),
      
      FILTER = rep(som_variants_Patient_ID$FILTER[i], num_genes),
      
      ID2 = rep(som_variants_Patient_ID$ID2[i], num_genes),
      
      som_germ = rep(som_variants_Patient_ID$som_germ[i], num_genes),
      
      GT = rep(som_variants_Patient_ID$GT[i], num_genes),
      
      GQ = rep(som_variants_Patient_ID$GQ[i], num_genes),
      
      CIEND = rep(som_variants_Patient_ID$CIEND[i], num_genes),
      
      CIPOS = rep(som_variants_Patient_ID$CIPOS[i], num_genes),
      
      CHR2 = rep(som_variants_Patient_ID$CHR2[i], num_genes),
      
      END = rep(som_variants_Patient_ID$END[i], num_genes),
      
      PE = rep(som_variants_Patient_ID$PE[i], num_genes),
      
      MAPQ = rep(som_variants_Patient_ID$MAPQ[i], num_genes),
      
      SRMAPQ = rep(som_variants_Patient_ID$SRMAPQ[i], num_genes),
      
      CONSENSUS = rep(som_variants_Patient_ID$CONSENSUS[i], num_genes),
      
      CE = rep(som_variants_Patient_ID$CE[i], num_genes),
      
      CT = rep(som_variants_Patient_ID$CT[i], num_genes),
      
      SVTYPE = rep(som_variants_Patient_ID$SVTYPE[i], num_genes),
      
      SVMETHOD = rep(som_variants_Patient_ID$SVMETHOD[i], num_genes),
      
      INSLEN = rep(som_variants_Patient_ID$INSLEN[i], num_genes),
      
      HOMLEN = rep(som_variants_Patient_ID$HOMLEN[i], num_genes),
      
      RDRATIO = rep(som_variants_Patient_ID$RDRATIO[i], num_genes),
      
      chrom_pos = rep(som_variants_Patient_ID$chrom_pos[i], num_genes),
      
      CPRA = rep(som_variants_Patient_ID$CPRA[i], num_genes),
      
      Gene.symbol = NA,
      
      Patient.ID = rep(som_variants_Patient_ID$Patient.ID[i], num_genes)
    )
  }
}))

row.names(som_variants_Patient_ID) <- NULL

# calculate the counts of SVTYPE for each gene symbol

SVTYPE_Counts <- table(som_variants_Patient_ID_separated$Gene.symbol, som_variants_Patient_ID_separated$SVTYPE)

SVTYPE_Counts <- as.data.frame.matrix(SVTYPE_Counts)

SVTYPE_Counts <- aggregate(. ~ row.names(SVTYPE_Counts), data = SVTYPE_Counts, FUN = sum)

colnames(SVTYPE_Counts) <- c("Gene.symbol", "BND", "DEL", "DUP", "INS", "INV")

# visualise the data som_variants_affecting_genes using barplots

par(mar = c(10, 4, 4, 2))

cex.axis <- 0.5

barplot(
  
  som_variants_affecting_genes$Count, 
  
  horiz = TRUE,
  
  las = 1,
  
  xlab = "Total Number of Structural Variants",
  
  ylab = "Genes",
  
  main = "Structural Variants per Gene", 
  
  names.arg = som_variants_affecting_genes$SearchWord,
  
  cex.names = cex.axis,
  
  col = "blue")

# Identify  shared  somatic variants

library(dplyr)

grouped_som_variants_Patient_ID_separated <- som_variants_Patient_ID_separated %>% group_by(Patient.ID, Gene.symbol, SVTYPE, CHROM)

grouped_som_variants_Patient_ID_separated_duplicates <- grouped_som_variants_Patient_ID_separated %>% filter(n() > 1)

# filter germ_df

filtered_germ_df <- germ_df[(germ_df$MAPQ >= 20 | germ_df$SRMAPQ >= 20) & germ_df$CIEND >= -20 & germ_df$CIPOS >= -20 & germ_df$GQ >= 20, ]

## Include Patient ID column within filtered_germ_df

germ_variants_Patient_ID <- filtered_germ_df[1:254, ]

Patient.ID <- vector("character", length = nrow(germ_variants_Patient_ID)) 
  
Patient.ID <- sapply(1:nrow(germ_variants_Patient_ID), function(x) {
  
  matching_Patient_ID2 <- Tumour_blocks_info$ID [
    
    which(
      
      filtered_germ_df$ID2[x] == Tumour_blocks_info$Germine_data_prefix
    )
  ]
  
  if (length(matching_Patient_ID2) > 0) {
    
    Patient.ID <- paste(matching_Patient_ID2, collapse = ", ")
    
  } else {
    
    Patient.ID <- NA
  }
  
  Patient.ID

} 
  )
germ_variants_Patient_ID$Patient.ID <- Patient.ID

# separate Patient.ID entries 

germ_variants_Patient_ID_separated <- do.call(rbind, lapply(seq_len(nrow(germ_variants_Patient_ID)), function(i) {
  
  Patient_ID <- strsplit(as.character(germ_variants_Patient_ID$Patient.ID[i]), ",\\s*")[[1]]
  
  num_IDs <- length(Patient_ID)
  
  if(num_IDs > 0) {
    
    data.frame(
      
      CHROM = rep(germ_variants_Patient_ID$CHROM[i], num_IDs),
      
      POS = rep(germ_variants_Patient_ID$POS[i], num_IDs),
      
      ID1 = rep(germ_variants_Patient_ID$ID1[i], num_IDs),
      
      REF = rep(germ_variants_Patient_ID$REF[i], num_IDs),
      
      ALT = rep(germ_variants_Patient_ID$ALT[i], num_IDs),
      
      QUAL = rep(germ_variants_Patient_ID$QUAL[i], num_IDs),
      
      FILTER = rep(germ_variants_Patient_ID$FILTER[i], num_IDs),
      
      ID2 = rep(germ_variants_Patient_ID$ID2[i], num_IDs),
      
      som_germ = rep(germ_variants_Patient_ID$som_germ[i], num_IDs),
      
      GT = rep(germ_variants_Patient_ID$GT[i], num_IDs),
      
      GQ = rep(germ_variants_Patient_ID$GQ[i], num_IDs),
      
      CIEND = rep(germ_variants_Patient_ID$CIEND[i], num_IDs),
      
      CIPOS = rep(germ_variants_Patient_ID$CIPOS[i], num_IDs),
      
      CHR2 = rep(germ_variants_Patient_ID$CHR2[i], num_IDs),
      
      END = rep(germ_variants_Patient_ID$END[i], num_IDs),
      
      PE = rep(germ_variants_Patient_ID$PE[i], num_IDs),
      
      MAPQ = rep(germ_variants_Patient_ID$MAPQ[i], num_IDs),
      
      SRMAPQ = rep(germ_variants_Patient_ID$SRMAPQ[i], num_IDs),
      
      SR = rep(germ_variants_Patient_ID$SR[i], num_IDs),
      
      SRQ = rep(germ_variants_Patient_ID$SRQ[i], num_IDs),
      
      CONSENSUS = rep(germ_variants_Patient_ID$CONSENSUS[i], num_IDs),
      
      CE = rep(germ_variants_Patient_ID$CE[i], num_IDs),
      
      CT = rep(germ_variants_Patient_ID$CT[i], num_IDs),
      
      SVTYPE = rep(germ_variants_Patient_ID$SVTYPE[i], num_IDs),
      
      SVMETHOD = rep(germ_variants_Patient_ID$SVMETHOD[i], num_IDs),
      
      INSLEN = rep(germ_variants_Patient_ID$INSLEN[i], num_IDs),
      
      HOMLEN = rep(germ_variants_Patient_ID$HOMLEN[i], num_IDs),
      
      chrom_pos = rep(germ_variants_Patient_ID$chrom_pos[i], num_IDs),
      
      CPRA = rep(germ_variants_Patient_ID$CPRA[i], num_IDs),
      
      Patient.ID = Patient_ID)
    
  } else {
    
    data.frame(
      
      CHROM = rep(germ_variants_Patient_ID$CHROM[i], num_IDs),
      
      POS = rep(germ_variants_Patient_ID$POS[i], num_IDs),
      
      ID1 = rep(germ_variants_Patient_ID$ID1[i], num_IDs),
      
      REF = rep(germ_variants_Patient_ID$REF[i], num_IDs),
      
      ALT = rep(germ_variants_Patient_ID$ALT[i], num_IDs),
      
      QUAL = rep(germ_variants_Patient_ID$QUAL[i], num_IDs),
      
      FILTER = rep(germ_variants_Patient_ID$FILTER[i], num_IDs),
      
      ID2 = rep(germ_variants_Patient_ID$ID2[i], num_IDs),
      
      som_germ = rep(germ_variants_Patient_ID$som_germ[i], num_IDs),
      
      GT = rep(germ_variants_Patient_ID$GT[i], num_IDs),
      
      GQ = rep(germ_variants_Patient_ID$GQ[i], num_IDs),
      
      CIEND = rep(germ_variants_Patient_ID$CIEND[i], num_IDs),
      
      CIPOS = rep(germ_variants_Patient_ID$CIPOS[i], num_IDs),
      
      CHR2 = rep(germ_variants_Patient_ID$CHR2[i], num_IDs),
      
      END = rep(germ_variants_Patient_ID$END[i], num_IDs),
      
      PE = rep(germ_variants_Patient_ID$PE[i], num_IDs),
      
      MAPQ = rep(germ_variants_Patient_ID$MAPQ[i], num_IDs),
      
      SRMAPQ = rep(germ_variants_Patient_ID$SRMAPQ[i], num_IDs),
      
      SR = rep(germ_variants_Patient_ID$SR[i], num_IDs),
      
      SRQ = rep(germ_variants_Patient_ID$SRQ[i], num_IDs),
      
      CONSENSUS = rep(germ_variants_Patient_ID$CONSENSUS[i], num_IDs),
      
      CE = rep(germ_variants_Patient_ID$CE[i], num_IDs),
      
      CT = rep(germ_variants_Patient_ID$CT[i], num_IDs),
      
      SVTYPE = rep(germ_variants_Patient_ID$SVTYPE[i], num_IDs),
      
      SVMETHOD = rep(germ_variants_Patient_ID$SVMETHOD[i], num_IDs),
      
      INSLEN = rep(germ_variants_Patient_ID$INSLEN[i], num_IDs),
      
      HOMLEN = rep(germ_variants_Patient_ID$HOMLEN[i], num_IDs),
      
      chrom_pos = rep(germ_variants_Patient_ID$chrom_pos[i], num_IDs),
      
      CPRA = rep(germ_variants_Patient_ID$CPRA[i], num_IDs),
      
      Patient.ID = NA)
  }
}))

row.names(germ_variants_Patient_ID) <- NULL


